{
 "cells": [
  {
   "cell_type": "markdown",
   "metadata": {},
   "source": [
    "### This script creates a table in the PostgreSQL database and transfers data from .csv file to the database."
   ]
  },
  {
   "cell_type": "code",
   "execution_count": 1,
   "metadata": {},
   "outputs": [],
   "source": [
    "# Import the required modules\n",
    "import csv\n",
    "import psycopg2"
   ]
  },
  {
   "cell_type": "code",
   "execution_count": 2,
   "metadata": {},
   "outputs": [],
   "source": [
    "# PostgreSQL database connection details\n",
    "db_host: str = \"localhost\"\n",
    "db_port: str = \"5432\"\n",
    "db_name: str = \"personinfodb\"\n",
    "db_user: str = \"postgres\"\n",
    "db_password: str = \"********\""
   ]
  },
  {
   "cell_type": "code",
   "execution_count": 3,
   "metadata": {},
   "outputs": [],
   "source": [
    "# Path to the fake_iban_names_data.csv file which is in \"data\" folder\n",
    "mapping_csv_path: str = \"data/fake_iban_names_data.csv\"\n"
   ]
  },
  {
   "cell_type": "code",
   "execution_count": 10,
   "metadata": {},
   "outputs": [],
   "source": [
    "def create_table(conn: psycopg2.extensions.connection) -> None:\n",
    "    \"\"\"\n",
    "    Create the table in the PostgreSQL database.\n",
    "    \n",
    "    Parameters:\n",
    "        conn (psycopg2.extensions.connection): The connection to the PostgreSQL database.\n",
    "    \n",
    "    \"\"\"    create_table_query: str = \"\"\"\n",
    "    CREATE TABLE IF NOT EXISTS person_info (\n",
    "        full_name TEXT,\n",
    "        iban TEXT PRIMARY KEY,\n",
    "        email TEXT\n",
    "    )\n",
    "    \"\"\"\n",
    "    with conn.cursor() as cursor:\n",
    "        cursor.execute(create_table_query)\n",
    "    conn.commit()\n",
    "    print(\"Table created successfully\")\n",
    "\n",
    "def transfer_data(conn: psycopg2.extensions.connection) -> None:\n",
    "    \"\"\"\n",
    "    Transfer data from .csv to the PostgreSQL database.\n",
    "\n",
    "    Parameters:\n",
    "        conn (psycopg2.extensions.connection): The connection to the PostgreSQL database.\n",
    "    \n",
    "    \"\"\" \n",
    "    with open(mapping_csv_path, newline=\"\") as csvfile:\n",
    "        reader = csv.DictReader(csvfile, delimiter=\",\")\n",
    "        for row in reader:\n",
    "            full_name: str = row[\"full_name\"]\n",
    "            iban: str = row[\"iban\"]\n",
    "            email: str = row[\"email\"]\n",
    "            insert_query: str = \"\"\"\n",
    "            INSERT INTO person_info (full_name, iban, email)\n",
    "            VALUES (%s, %s, %s)\n",
    "            \"\"\"\n",
    "            with conn.cursor() as cursor:\n",
    "                cursor.execute(insert_query, (full_name, iban, email))\n",
    "            conn.commit()\n",
    "        print(\"Data transfer completed successfully.\")"
   ]
  },
  {
   "cell_type": "code",
   "execution_count": 6,
   "metadata": {},
   "outputs": [
    {
     "name": "stdout",
     "output_type": "stream",
     "text": [
      "Table created successfully\n"
     ]
    }
   ],
   "source": [
    "# Establish a connection to the PostgreSQL database\n",
    "conn: psycopg2.extensions.connection = psycopg2.connect(\n",
    "    host=db_host,\n",
    "    port=db_port,\n",
    "    database=db_name,\n",
    "    user=db_user,\n",
    "    password=db_password\n",
    ")\n",
    "\n",
    "# Create the  table if it doesn't exist\n",
    "create_table(conn)"
   ]
  },
  {
   "cell_type": "code",
   "execution_count": 8,
   "metadata": {},
   "outputs": [
    {
     "name": "stdout",
     "output_type": "stream",
     "text": [
      "Data transfer completed successfully.\n"
     ]
    }
   ],
   "source": [
    "# Transfer data from .csv to the database\n",
    "transfer_data(conn)"
   ]
  }
 ],
 "metadata": {
  "kernelspec": {
   "display_name": "Python 3",
   "language": "python",
   "name": "python3"
  },
  "language_info": {
   "codemirror_mode": {
    "name": "ipython",
    "version": 3
   },
   "file_extension": ".py",
   "mimetype": "text/x-python",
   "name": "python",
   "nbconvert_exporter": "python",
   "pygments_lexer": "ipython3",
   "version": "3.10.6"
  },
  "orig_nbformat": 4
 },
 "nbformat": 4,
 "nbformat_minor": 2
}
