{
 "cells": [
  {
   "cell_type": "markdown",
   "metadata": {},
   "source": [
    "### This script retrieves all the transactions from the databases (PostgreSQL, MongoDB), by taking full name, from date and to date as input."
   ]
  },
  {
   "cell_type": "code",
   "execution_count": 49,
   "metadata": {},
   "outputs": [],
   "source": [
    "# Load libraries\n",
    "from datetime import datetime\n",
    "from typing import List, Dict, Union\n",
    "from pymongo import MongoClient\n",
    "import pandas as pd\n",
    "import psycopg2"
   ]
  },
  {
   "cell_type": "code",
   "execution_count": 42,
   "metadata": {},
   "outputs": [],
   "source": [
    "# Postgres Database connection details\n",
    "postgres_db_host: str = \"localhost\"  # hostname where Postgres server is running\n",
    "postgres_db_port: str = \"5432\"  # port number at which Postgres server is running\n",
    "postgres_db_name: str = \"personinfodb\"  # name of the Postgres database to connect to\n",
    "postgres_db_user: str = \"postgres\"  # username for Postgres database\n",
    "postgres_db_password: str = \"*******\"  # password for the Postgres user\n",
    "\n",
    "# MongoDB connection details\n",
    "mongo_db_host: str = \"localhost\"  # hostname where MongoDB server is running\n",
    "mongo_db_port: int = 27017  # port number at which MongoDB server is running\n",
    "mongo_db_name: str = \"transactionsdb\"  # name of the MongoDB database to connect to\n"
   ]
  },
  {
   "cell_type": "code",
   "execution_count": 50,
   "metadata": {},
   "outputs": [],
   "source": [
    "def retrieve_transactions(full_name: str, start_date: str, end_date: str) -> List[Dict[str, Union[datetime, str, float]]]:\n",
    "    \"\"\"\n",
    "    Retrieve transactions from a MongoDB for a given person (identified by their full name) and time range.\n",
    "\n",
    "    The person is first identified in a PostgreSQL database by their full name, from which their IBAN is retrieved.\n",
    "    This IBAN is then used to query the MongoDB for all transactions in the given date range.\n",
    "\n",
    "    Parameters:\n",
    "    full_name (str): Full name of the person for whom to retrieve transaction data.\n",
    "    start_date (str): Start date for the time range of transactions to retrieve, in the format 'DD/MM/YYYY'.\n",
    "    end_date (str): End date for the time range of transactions to retrieve, in the format 'DD/MM/YYYY'.\n",
    "\n",
    "    Returns:\n",
    "    transactions (List[Dict[str, Union[datetime, str, float]]]): List of transactions found for the person in the given date range.\n",
    "    Each transaction is represented as a dictionary with 'date', 'iban', and 'amount' as keys.\n",
    "    Returns an empty list if the person's name is not found in the PostgreSQL database.\n",
    "    \"\"\"\n",
    "\n",
    "    # Connect to the PostgreSQL database\n",
    "    pg_conn = psycopg2.connect(\n",
    "        host=postgres_db_host,\n",
    "        port=postgres_db_port,\n",
    "        database=postgres_db_name,\n",
    "        user=postgres_db_user,\n",
    "        password=postgres_db_password\n",
    "    )\n",
    "\n",
    "    # Connect to the MongoDB\n",
    "    mongo_client = MongoClient(mongo_db_host, mongo_db_port)\n",
    "    mongo_db = mongo_client[mongo_db_name]\n",
    "    mongo_collection = mongo_db[\"transactions_data\"]\n",
    "\n",
    "    # Query PostgreSQL database for IBAN based on full_name\n",
    "    pg_query = \"\"\"\n",
    "    SELECT iban FROM person_info WHERE full_name = %s\n",
    "    \"\"\"\n",
    "    with pg_conn.cursor() as pg_cursor:\n",
    "        pg_cursor.execute(pg_query, (full_name ,))\n",
    "        result = pg_cursor.fetchone()\n",
    "        if result is None:\n",
    "            return []  # Name not found in database\n",
    "\n",
    "        iban = result[0]\n",
    "\n",
    "    # Parse start_date and end_date\n",
    "    start_date = datetime.strptime(start_date, \"%d/%m/%Y\")\n",
    "    end_date = datetime.strptime(end_date, \"%d/%m/%Y\")\n",
    "\n",
    "    # Query MongoDB for transactions within the date range\n",
    "    mongo_query = {\n",
    "        \"iban\": iban,\n",
    "        \"date\": {\"$gte\": start_date, \"$lte\": end_date}\n",
    "    }\n",
    "    mongo_documents = mongo_collection.find(mongo_query)\n",
    "\n",
    "    # Prepare the list of transactions to return\n",
    "    transactions = []\n",
    "    for document in mongo_documents:\n",
    "        transaction = {\n",
    "            \"date\": document[\"date\"],\n",
    "            \"iban\": document[\"iban\"],\n",
    "            \"amount\": document[\"amount\"]\n",
    "        }\n",
    "        transactions.append(transaction)\n",
    "\n",
    "    return transactions\n"
   ]
  },
  {
   "cell_type": "code",
   "execution_count": 51,
   "metadata": {},
   "outputs": [
    {
     "name": "stdout",
     "output_type": "stream",
     "text": [
      "Full name: Hannah Foster\n",
      "iban: ['HX66TEDY9432557008721813']\n",
      "--------------------------------------------------\n"
     ]
    },
    {
     "data": {
      "text/html": [
       "<div>\n",
       "<style scoped>\n",
       "    .dataframe tbody tr th:only-of-type {\n",
       "        vertical-align: middle;\n",
       "    }\n",
       "\n",
       "    .dataframe tbody tr th {\n",
       "        vertical-align: top;\n",
       "    }\n",
       "\n",
       "    .dataframe thead th {\n",
       "        text-align: right;\n",
       "    }\n",
       "</style>\n",
       "<table border=\"1\" class=\"dataframe\">\n",
       "  <thead>\n",
       "    <tr style=\"text-align: right;\">\n",
       "      <th></th>\n",
       "      <th>date</th>\n",
       "      <th>amount</th>\n",
       "    </tr>\n",
       "  </thead>\n",
       "  <tbody>\n",
       "    <tr>\n",
       "      <th>0</th>\n",
       "      <td>2020-06-06</td>\n",
       "      <td>€2373,42</td>\n",
       "    </tr>\n",
       "    <tr>\n",
       "      <th>1</th>\n",
       "      <td>2020-01-05</td>\n",
       "      <td>€3798,22</td>\n",
       "    </tr>\n",
       "    <tr>\n",
       "      <th>2</th>\n",
       "      <td>2020-04-07</td>\n",
       "      <td>€111,96</td>\n",
       "    </tr>\n",
       "  </tbody>\n",
       "</table>\n",
       "</div>"
      ],
      "text/plain": [
       "        date    amount\n",
       "0 2020-06-06  €2373,42\n",
       "1 2020-01-05  €3798,22\n",
       "2 2020-04-07   €111,96"
      ]
     },
     "metadata": {},
     "output_type": "display_data"
    },
    {
     "name": "stdout",
     "output_type": "stream",
     "text": [
      "Total amount: 6283.6 €\n"
     ]
    }
   ],
   "source": [
    "# Ask for input\n",
    "full_name = input(\"Please enter the full name: \")\n",
    "start_date = input(\"Please enter the start date (DD/MM/YYYY): \")\n",
    "end_date = input(\"Please enter the end date (DD/MM/YYYY): \")\n",
    "\n",
    "# Retrieve transactions\n",
    "transactions = retrieve_transactions(full_name, start_date, end_date)\n",
    "\n",
    "# Display the information\n",
    "print(\"Full name:\", full_name)\n",
    "df = pd.DataFrame(transactions, index=None)\n",
    "print(\"iban:\", df['iban'].unique())\n",
    "print(\"--------------------------------------------------\")\n",
    "display(df.drop(columns=['iban']))\n",
    "\n",
    "# Clean up the amount and calculate the total\n",
    "df['amount'] = df['amount'].str.replace('€', '').str.replace(',', '.').astype(float)\n",
    "print(\"Total amount:\", round(df['amount'].sum(), 3), \"€\")\n"
   ]
  }
 ],
 "metadata": {
  "kernelspec": {
   "display_name": "Python 3",
   "language": "python",
   "name": "python3"
  },
  "language_info": {
   "codemirror_mode": {
    "name": "ipython",
    "version": 3
   },
   "file_extension": ".py",
   "mimetype": "text/x-python",
   "name": "python",
   "nbconvert_exporter": "python",
   "pygments_lexer": "ipython3",
   "version": "3.10.6"
  },
  "orig_nbformat": 4
 },
 "nbformat": 4,
 "nbformat_minor": 2
}
