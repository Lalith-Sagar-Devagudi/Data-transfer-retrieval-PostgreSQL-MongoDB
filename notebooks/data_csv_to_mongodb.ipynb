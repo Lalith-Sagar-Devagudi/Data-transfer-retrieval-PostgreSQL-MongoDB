{
 "cells": [
  {
   "cell_type": "markdown",
   "metadata": {},
   "source": [
    "### This script transfers data from .csv file to the MongoDB database."
   ]
  },
  {
   "cell_type": "code",
   "execution_count": 1,
   "metadata": {},
   "outputs": [],
   "source": [
    "# Import the required modules\n",
    "import csv\n",
    "from pymongo import MongoClient\n",
    "from typing import List, Dict, Union, Any"
   ]
  },
  {
   "cell_type": "code",
   "execution_count": 2,
   "metadata": {},
   "outputs": [],
   "source": [
    "# MongoDB connection details\n",
    "db_host: str = \"localhost\"\n",
    "db_port: int = 27017\n",
    "db_name: str = \"transactionsdb\""
   ]
  },
  {
   "cell_type": "code",
   "execution_count": 3,
   "metadata": {},
   "outputs": [],
   "source": [
    "# Path to the fake_transactions_data.csv file\n",
    "data_csv_path: str = \"data/fake_transactions_data.csv\""
   ]
  },
  {
   "cell_type": "code",
   "execution_count": 7,
   "metadata": {},
   "outputs": [],
   "source": [
    "def transfer_data(client: MongoClient, csv_path: str) -> None:\n",
    "    \"\"\"\n",
    "    Transfer data from the Data CSV to the MongoDB database.\n",
    "\n",
    "    Parameters:\n",
    "        client (MongoClient): A MongoClient instance connected to a MongoDB database.\n",
    "        csv_path (str): The path to the CSV file containing the data to transfer.\n",
    "    \"\"\"\n",
    "    db = client[db_name]\n",
    "    collection = db[\"transactions_data\"]\n",
    "    batch_size: int = 100  # Adjust this to a value that works well for your situation\n",
    "    batch: List[Dict[str, Union[str, int]]] = []\n",
    "    with open(csv_path, newline=\"\") as csvfile:\n",
    "        reader = csv.DictReader(csvfile, delimiter=\",\")\n",
    "        for row in reader:\n",
    "            date: str = row[\"date\"]\n",
    "            iban: str = row[\"iban\"]\n",
    "            amount: str = row[\"amount\"]\n",
    "            document: Dict[str, str] = {\n",
    "                \"date\": date,\n",
    "                \"iban\": iban,\n",
    "                \"amount\": amount\n",
    "            }\n",
    "            batch.append(document)\n",
    "            if len(batch) >= batch_size:\n",
    "                collection.insert_many(batch, ordered=False)  # Exclude the _id field\n",
    "                batch = []\n",
    "    if batch:  # Insert any remaining documents\n",
    "        collection.insert_many(batch, ordered=False)  # Exclude the _id field"
   ]
  },
  {
   "cell_type": "code",
   "execution_count": 5,
   "metadata": {},
   "outputs": [],
   "source": [
    "# Establish a connection to the MongoDB database\n",
    "client = MongoClient(db_host, db_port)"
   ]
  },
  {
   "cell_type": "code",
   "execution_count": 9,
   "metadata": {},
   "outputs": [],
   "source": [
    "# Transfer data from data.csv to the database\n",
    "transfer_data(client, data_csv_path)"
   ]
  }
 ],
 "metadata": {
  "kernelspec": {
   "display_name": "Python 3",
   "language": "python",
   "name": "python3"
  },
  "language_info": {
   "codemirror_mode": {
    "name": "ipython",
    "version": 3
   },
   "file_extension": ".py",
   "mimetype": "text/x-python",
   "name": "python",
   "nbconvert_exporter": "python",
   "pygments_lexer": "ipython3",
   "version": "3.10.6"
  },
  "orig_nbformat": 4
 },
 "nbformat": 4,
 "nbformat_minor": 2
}
